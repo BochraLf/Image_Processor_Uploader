{
 "cells": [
  {
   "cell_type": "code",
   "execution_count": 9,
   "id": "300e0be4",
   "metadata": {},
   "outputs": [
    {
     "name": "stdout",
     "output_type": "stream",
     "text": [
      "UNSPLASH_ACCESS_KEY is not set in the environment.\n"
     ]
    }
   ],
   "source": [
    "import os\n",
    "from os.path import join, dirname, abspath\n",
    "from dotenv import load_dotenv\n",
    "\n",
    "# Get the directory where the current script is located\n",
    "script_directory = dirname(abspath(\"/\"))\n",
    "\n",
    "# Construct the path to the .env file relative to the script directory\n",
    "dotenv_path = join(script_directory, '.env')\n",
    "load_dotenv(dotenv_path)\n",
    "\n",
    "UNSPLASH_ACCESS_KEY = os.environ.get(\"UNSPLASH_ACCESS_KEY\")\n",
    "\n",
    "if UNSPLASH_ACCESS_KEY:\n",
    "    print(\"UNSPLASH_ACCESS_KEY is set\")\n",
    "else:\n",
    "    print(\"UNSPLASH_ACCESS_KEY is not set in the environment.\")"
   ]
  },
  {
   "cell_type": "code",
   "execution_count": 4,
   "id": "9c06b58a",
   "metadata": {
    "lines_to_next_cell": 2
   },
   "outputs": [
    {
     "name": "stdout",
     "output_type": "stream",
     "text": [
      "UNSPLASH_ACCESS_KEY is set in the environment.\n"
     ]
    }
   ],
   "source": [
    "from googleapiclient.http import MediaIoBaseUpload\n",
    "from googleapiclient.http import MediaFileUpload\n",
    "from googleapiclient.discovery import build\n",
    "from google.oauth2 import service_account\n",
    "from pyunsplash import PyUnsplash\n",
    "import os\n",
    "from io import BytesIO\n",
    "import requests\n",
    "from PIL import Image, ImageEnhance\n",
    "\n",
    "# Specify the path to your .env file (use an absolute path if needed)\n",
    "dotenv_path = './key.txt'\n",
    "\n",
    "# Load environment variables from the .env file\n",
    "try:\n",
    "    with open(dotenv_path, 'r') as file:\n",
    "        for line in file:\n",
    "            if line.strip() and not line.startswith('#'):\n",
    "                key, value = line.strip().split('=', 1)\n",
    "                os.environ[key] = value\n",
    "except FileNotFoundError:\n",
    "    print(f\"Error: The .env file '{dotenv_path}' was not found.\")\n",
    "\n",
    "# Access your environment variables\n",
    "UNSPLASH_ACCESS_KEY = os.environ.get(\"UNSPLASH_ACCESS_KEY\")\n",
    "\n",
    "if UNSPLASH_ACCESS_KEY:\n",
    "    print(\"UNSPLASH_ACCESS_KEY is set in the environment.\")\n",
    "else:\n",
    "    print(\"UNSPLASH_ACCESS_KEY is not set in the environment.\")"
   ]
  },
  {
   "cell_type": "code",
   "execution_count": 5,
   "id": "37d0f536",
   "metadata": {},
   "outputs": [],
   "source": [
    "# instantiate PyUnsplash object\n",
    "pu = PyUnsplash(api_key=UNSPLASH_ACCESS_KEY)"
   ]
  },
  {
   "cell_type": "code",
   "execution_count": 6,
   "id": "18b95fb1",
   "metadata": {
    "lines_to_next_cell": 2
   },
   "outputs": [],
   "source": [
    "def search_and_download_from_unsplash(keys, n, folder_id):\n",
    "    pics_list = []\n",
    "    for _ in range(n):\n",
    "        photos = pu.photos(type_='random', count=1, featured=True, query=keys)\n",
    "        [photo] = photos.entries\n",
    "        data_dict = {\n",
    "            \"id\": photo.id,\n",
    "            \"url\": photo.link_download\n",
    "        }\n",
    "        pics_list.append(data_dict)\n",
    "\n",
    "    # Transform pics to grayscale and upload to Google Drive\n",
    "    pics_gray = []\n",
    "    credentials_file = 'cle.json'\n",
    "    credentials = service_account.Credentials.from_service_account_file(\n",
    "        credentials_file, scopes=['https://www.googleapis.com/auth/drive'])\n",
    "\n",
    "    drive_service = build('drive', 'v3', credentials=credentials)\n",
    "\n",
    "    for i, pic_data in enumerate(pics_list):\n",
    "        response = requests.get(pic_data[\"url\"], allow_redirects=True)\n",
    "        if response.status_code == 200:\n",
    "            image_data = BytesIO(response.content)\n",
    "            image = Image.open(image_data)\n",
    "            w, h = image.size\n",
    "            if w > 2000:\n",
    "                ratio = 1/3\n",
    "                new = image.resize((round(w*ratio), round(h*ratio)))\n",
    "            else:\n",
    "                new = image\n",
    "            gray_image = new.convert('L')\n",
    "            pics_gray.append(gray_image)\n",
    "        else:\n",
    "            print(\"Failed to fetch the image.\")\n",
    "\n",
    "    for i, gray_image in enumerate(pics_gray):\n",
    "        in_memory_file = BytesIO()\n",
    "        gray_image.save(in_memory_file, format='PNG')\n",
    "\n",
    "        file_metadata = {\n",
    "            'name': f'image_{i}.png',\n",
    "            'parents': [folder_id]\n",
    "        }\n",
    "\n",
    "        media = MediaIoBaseUpload(in_memory_file, mimetype='image/png')\n",
    "\n",
    "        file = drive_service.files().create(\n",
    "            body=file_metadata,\n",
    "            media_body=media,\n",
    "            fields='id'\n",
    "        ).execute()\n",
    "\n",
    "        print(f'Uploaded file ID for image \"{keys}\" {i}: {file[\"id\"]}')"
   ]
  },
  {
   "cell_type": "code",
   "execution_count": 7,
   "id": "c7f8619d",
   "metadata": {},
   "outputs": [],
   "source": [
    "def upload_image_from_url(url, folder_id):\n",
    "    try:\n",
    "        # Download the image from the provided URL\n",
    "        response = requests.get(url, allow_redirects=True)\n",
    "        response.raise_for_status()  # Raise an error if the request was not successful\n",
    "\n",
    "        # Check if the response contains image data\n",
    "        if 'image' not in response.headers['Content-Type']:\n",
    "            print(\"The provided URL does not point to an image.\")\n",
    "            return\n",
    "\n",
    "        # Read the image data into a BytesIO object\n",
    "        image_data = BytesIO(response.content)\n",
    "        # Use PIL to open and process the image\n",
    "        image = Image.open(image_data)\n",
    "        # RESIZING (if needed)\n",
    "        w, h = image.size\n",
    "        if w > 2000:\n",
    "            ratio = 1/3\n",
    "            new = image.resize((round(w*ratio), round(h*ratio)))\n",
    "        else:\n",
    "            new = image\n",
    "        # Convert the image to grayscale\n",
    "        gray_image = new.convert('L')\n",
    "\n",
    "        # Create an in-memory file from the grayscale image\n",
    "        in_memory_file = BytesIO()\n",
    "        # You can change the format as needed\n",
    "        gray_image.save(in_memory_file, format='PNG')\n",
    "\n",
    "        # Specify file metadata (customize the name and folder ID)\n",
    "        file_metadata = {\n",
    "            'name': 'uploaded_image.png',  # Customize the file name\n",
    "            'parents': [folder_id]\n",
    "        }\n",
    "\n",
    "        credentials_file = 'cle.json'\n",
    "        credentials = service_account.Credentials.from_service_account_file(\n",
    "            credentials_file, scopes=['https://www.googleapis.com/auth/drive'])\n",
    "\n",
    "        drive_service = build('drive', 'v3', credentials=credentials)\n",
    "\n",
    "        # Create a media upload object from the in-memory file\n",
    "        media = MediaIoBaseUpload(in_memory_file, mimetype='image/png')\n",
    "\n",
    "        # Upload the file to Google Drive\n",
    "        file = drive_service.files().create(\n",
    "            body=file_metadata,\n",
    "            media_body=media,\n",
    "            fields='id'\n",
    "        ).execute()\n",
    "\n",
    "        # Print the file ID\n",
    "        print(f'Uploaded file ID for the uploaded image: {file[\"id\"]}')\n",
    "    except requests.exceptions.RequestException as e:\n",
    "        print(f\"Error while fetching the image from the provided URL: {e}\")\n",
    "    except Exception as e:\n",
    "        print(f\"An error occurred: {e}\")\n"
   ]
  },
  {
   "cell_type": "code",
   "execution_count": 8,
   "id": "b2ba88ca",
   "metadata": {},
   "outputs": [],
   "source": [
    "def get_pics_by_demand():\n",
    "    user_choice = input(\n",
    "        \"Enter 'U' to upload an image from a URL or 'S' to search and download it from Unsplash: \").lower()\n",
    "\n",
    "    if user_choice == 'u':\n",
    "        url = input(\"Enter the URL of the image you want to upload: \")\n",
    "        folder_id = input(\n",
    "            \"Enter the Google Drive folder ID where you want to upload the image: \")\n",
    "        upload_image_from_url(url, folder_id)\n",
    "    elif user_choice == 's':\n",
    "        keys = input(\"Enter your search keywords: \")\n",
    "        n = int(input(\"Enter the number of photos you want to download: \"))\n",
    "        folder_id = input(\n",
    "            \"Enter the Google Drive folder ID where you want to upload the downloaded images: \")\n",
    "        search_and_download_from_unsplash(keys, n, folder_id)\n",
    "    else:\n",
    "        print(\"Invalid choice. Please enter 'U' or 'S'.\")"
   ]
  },
  {
   "cell_type": "code",
   "execution_count": 9,
   "id": "6e6b2418",
   "metadata": {},
   "outputs": [
    {
     "name": "stdout",
     "output_type": "stream",
     "text": [
      "Enter 'U' to upload an image from a URL or 'S' to search and download it from Unsplash: s\n",
      "Enter your search keywords: free palestine\n",
      "Enter the number of photos you want to download: 2\n",
      "Enter the Google Drive folder ID where you want to upload the downloaded images: 1zj1ugP0gV2J5yWSQSsJgmD71zgoRS4IY\n",
      "Uploaded file ID for image \"free palestine\" 0: 1TEUxlygAYIrHnnRG83qXFPPNsyRCJYcV\n",
      "Uploaded file ID for image \"free palestine\" 1: 18_IGkHquFdA_eXRq2voeC1X1ohmKv510\n"
     ]
    }
   ],
   "source": [
    "get_pics_by_demand()"
   ]
  }
 ],
 "metadata": {
  "jupytext": {
   "cell_metadata_filter": "-all",
   "encoding": "# coding: utf-8",
   "executable": "/usr/bin/env python",
   "main_language": "python",
   "notebook_metadata_filter": "-all"
  },
  "kernelspec": {
   "display_name": "Python 3 (ipykernel)",
   "language": "python",
   "name": "python3"
  },
  "language_info": {
   "codemirror_mode": {
    "name": "ipython",
    "version": 3
   },
   "file_extension": ".py",
   "mimetype": "text/x-python",
   "name": "python",
   "nbconvert_exporter": "python",
   "pygments_lexer": "ipython3",
   "version": "3.10.9"
  }
 },
 "nbformat": 4,
 "nbformat_minor": 5
}
